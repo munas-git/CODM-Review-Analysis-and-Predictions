{
 "cells": [
  {
   "cell_type": "markdown",
   "metadata": {},
   "source": [
    "## Task/End goal\n",
    "> Be able to classify CODM users as satsfied/dissatisfied based on their review"
   ]
  },
  {
   "cell_type": "code",
   "execution_count": 1,
   "metadata": {},
   "outputs": [],
   "source": [
    "import re\n",
    "import pandas as pd\n",
    "import wordcloud\n",
    "from nltk.corpus import stopwords\n",
    "from matplotlib import pyplot as plt\n",
    "from nltk.tokenize import word_tokenize\n",
    "from nltk.stem import PorterStemmer\n",
    "from sklearn.feature_extraction.text import CountVectorizer"
   ]
  },
  {
   "cell_type": "code",
   "execution_count": 2,
   "metadata": {},
   "outputs": [],
   "source": [
    "data = pd.read_csv(\"Call Of Duty.csv\")"
   ]
  },
  {
   "cell_type": "code",
   "execution_count": 3,
   "metadata": {},
   "outputs": [
    {
     "data": {
      "text/html": [
       "<div>\n",
       "<style scoped>\n",
       "    .dataframe tbody tr th:only-of-type {\n",
       "        vertical-align: middle;\n",
       "    }\n",
       "\n",
       "    .dataframe tbody tr th {\n",
       "        vertical-align: top;\n",
       "    }\n",
       "\n",
       "    .dataframe thead th {\n",
       "        text-align: right;\n",
       "    }\n",
       "</style>\n",
       "<table border=\"1\" class=\"dataframe\">\n",
       "  <thead>\n",
       "    <tr style=\"text-align: right;\">\n",
       "      <th></th>\n",
       "      <th>reviews</th>\n",
       "      <th>ratings</th>\n",
       "    </tr>\n",
       "  </thead>\n",
       "  <tbody>\n",
       "    <tr>\n",
       "      <th>0</th>\n",
       "      <td>I've been playing for years now and it's been ...</td>\n",
       "      <td>4</td>\n",
       "    </tr>\n",
       "    <tr>\n",
       "      <th>1</th>\n",
       "      <td>An annoying experience all round. Ever since t...</td>\n",
       "      <td>1</td>\n",
       "    </tr>\n",
       "    <tr>\n",
       "      <th>2</th>\n",
       "      <td>I love the game though. It's close to real, bu...</td>\n",
       "      <td>3</td>\n",
       "    </tr>\n",
       "    <tr>\n",
       "      <th>3</th>\n",
       "      <td>I've been playing for years now and it's been ...</td>\n",
       "      <td>4</td>\n",
       "    </tr>\n",
       "    <tr>\n",
       "      <th>4</th>\n",
       "      <td>An annoying experience all round. Ever since t...</td>\n",
       "      <td>1</td>\n",
       "    </tr>\n",
       "  </tbody>\n",
       "</table>\n",
       "</div>"
      ],
      "text/plain": [
       "                                             reviews  ratings\n",
       "0  I've been playing for years now and it's been ...        4\n",
       "1  An annoying experience all round. Ever since t...        1\n",
       "2  I love the game though. It's close to real, bu...        3\n",
       "3  I've been playing for years now and it's been ...        4\n",
       "4  An annoying experience all round. Ever since t...        1"
      ]
     },
     "execution_count": 3,
     "metadata": {},
     "output_type": "execute_result"
    }
   ],
   "source": [
    "data.head()"
   ]
  },
  {
   "cell_type": "markdown",
   "metadata": {},
   "source": [
    "## EDA/Feature engineering"
   ]
  },
  {
   "cell_type": "code",
   "execution_count": 4,
   "metadata": {},
   "outputs": [
    {
     "name": "stdout",
     "output_type": "stream",
     "text": [
      "<class 'pandas.core.frame.DataFrame'>\n",
      "RangeIndex: 3882 entries, 0 to 3881\n",
      "Data columns (total 2 columns):\n",
      " #   Column   Non-Null Count  Dtype \n",
      "---  ------   --------------  ----- \n",
      " 0   reviews  3882 non-null   object\n",
      " 1   ratings  3882 non-null   int64 \n",
      "dtypes: int64(1), object(1)\n",
      "memory usage: 60.8+ KB\n"
     ]
    }
   ],
   "source": [
    "data.info()"
   ]
  },
  {
   "cell_type": "code",
   "execution_count": 5,
   "metadata": {},
   "outputs": [
    {
     "data": {
      "text/plain": [
       "reviews    0\n",
       "ratings    0\n",
       "dtype: int64"
      ]
     },
     "execution_count": 5,
     "metadata": {},
     "output_type": "execute_result"
    }
   ],
   "source": [
    "data.isna().sum()"
   ]
  },
  {
   "cell_type": "code",
   "execution_count": 6,
   "metadata": {},
   "outputs": [
    {
     "data": {
      "text/html": [
       "<div>\n",
       "<style scoped>\n",
       "    .dataframe tbody tr th:only-of-type {\n",
       "        vertical-align: middle;\n",
       "    }\n",
       "\n",
       "    .dataframe tbody tr th {\n",
       "        vertical-align: top;\n",
       "    }\n",
       "\n",
       "    .dataframe thead th {\n",
       "        text-align: right;\n",
       "    }\n",
       "</style>\n",
       "<table border=\"1\" class=\"dataframe\">\n",
       "  <thead>\n",
       "    <tr style=\"text-align: right;\">\n",
       "      <th></th>\n",
       "      <th>ratings</th>\n",
       "    </tr>\n",
       "  </thead>\n",
       "  <tbody>\n",
       "    <tr>\n",
       "      <th>count</th>\n",
       "      <td>3882.000000</td>\n",
       "    </tr>\n",
       "    <tr>\n",
       "      <th>mean</th>\n",
       "      <td>3.202473</td>\n",
       "    </tr>\n",
       "    <tr>\n",
       "      <th>std</th>\n",
       "      <td>1.572016</td>\n",
       "    </tr>\n",
       "    <tr>\n",
       "      <th>min</th>\n",
       "      <td>1.000000</td>\n",
       "    </tr>\n",
       "    <tr>\n",
       "      <th>25%</th>\n",
       "      <td>2.000000</td>\n",
       "    </tr>\n",
       "    <tr>\n",
       "      <th>50%</th>\n",
       "      <td>3.000000</td>\n",
       "    </tr>\n",
       "    <tr>\n",
       "      <th>75%</th>\n",
       "      <td>5.000000</td>\n",
       "    </tr>\n",
       "    <tr>\n",
       "      <th>max</th>\n",
       "      <td>5.000000</td>\n",
       "    </tr>\n",
       "  </tbody>\n",
       "</table>\n",
       "</div>"
      ],
      "text/plain": [
       "           ratings\n",
       "count  3882.000000\n",
       "mean      3.202473\n",
       "std       1.572016\n",
       "min       1.000000\n",
       "25%       2.000000\n",
       "50%       3.000000\n",
       "75%       5.000000\n",
       "max       5.000000"
      ]
     },
     "execution_count": 6,
     "metadata": {},
     "output_type": "execute_result"
    }
   ],
   "source": [
    "data.describe()"
   ]
  },
  {
   "cell_type": "code",
   "execution_count": 7,
   "metadata": {},
   "outputs": [],
   "source": [
    "# Classifying reviews as binary (Satisfied =1, dissatisfied = 0) and creation of new column\n",
    "# Satisfied user == 3+ stars rating, dissatisfied == 2< stars rating \n",
    "data[\"satisfied\"] = data[\"ratings\"].apply(lambda x: 1 if x >=3 else 0)"
   ]
  },
  {
   "cell_type": "code",
   "execution_count": 8,
   "metadata": {},
   "outputs": [
    {
     "data": {
      "text/html": [
       "<div>\n",
       "<style scoped>\n",
       "    .dataframe tbody tr th:only-of-type {\n",
       "        vertical-align: middle;\n",
       "    }\n",
       "\n",
       "    .dataframe tbody tr th {\n",
       "        vertical-align: top;\n",
       "    }\n",
       "\n",
       "    .dataframe thead th {\n",
       "        text-align: right;\n",
       "    }\n",
       "</style>\n",
       "<table border=\"1\" class=\"dataframe\">\n",
       "  <thead>\n",
       "    <tr style=\"text-align: right;\">\n",
       "      <th></th>\n",
       "      <th>reviews</th>\n",
       "      <th>ratings</th>\n",
       "      <th>satisfied</th>\n",
       "    </tr>\n",
       "  </thead>\n",
       "  <tbody>\n",
       "    <tr>\n",
       "      <th>0</th>\n",
       "      <td>I've been playing for years now and it's been ...</td>\n",
       "      <td>4</td>\n",
       "      <td>1</td>\n",
       "    </tr>\n",
       "    <tr>\n",
       "      <th>1</th>\n",
       "      <td>An annoying experience all round. Ever since t...</td>\n",
       "      <td>1</td>\n",
       "      <td>0</td>\n",
       "    </tr>\n",
       "    <tr>\n",
       "      <th>2</th>\n",
       "      <td>I love the game though. It's close to real, bu...</td>\n",
       "      <td>3</td>\n",
       "      <td>1</td>\n",
       "    </tr>\n",
       "    <tr>\n",
       "      <th>3</th>\n",
       "      <td>I've been playing for years now and it's been ...</td>\n",
       "      <td>4</td>\n",
       "      <td>1</td>\n",
       "    </tr>\n",
       "    <tr>\n",
       "      <th>4</th>\n",
       "      <td>An annoying experience all round. Ever since t...</td>\n",
       "      <td>1</td>\n",
       "      <td>0</td>\n",
       "    </tr>\n",
       "  </tbody>\n",
       "</table>\n",
       "</div>"
      ],
      "text/plain": [
       "                                             reviews  ratings  satisfied\n",
       "0  I've been playing for years now and it's been ...        4          1\n",
       "1  An annoying experience all round. Ever since t...        1          0\n",
       "2  I love the game though. It's close to real, bu...        3          1\n",
       "3  I've been playing for years now and it's been ...        4          1\n",
       "4  An annoying experience all round. Ever since t...        1          0"
      ]
     },
     "execution_count": 8,
     "metadata": {},
     "output_type": "execute_result"
    }
   ],
   "source": [
    "data.head()"
   ]
  },
  {
   "cell_type": "code",
   "execution_count": 9,
   "metadata": {},
   "outputs": [
    {
     "data": {
      "text/plain": [
       "satisfied\n",
       "0    1382\n",
       "1    2500\n",
       "Name: satisfied, dtype: int64"
      ]
     },
     "execution_count": 9,
     "metadata": {},
     "output_type": "execute_result"
    }
   ],
   "source": [
    "# users grouped by satisfaction status\n",
    "reviews_by_satisfaction = data.groupby(\"satisfied\")\n",
    "\n",
    "# number of satisfied and unsatisfied users\n",
    "reviews_by_satisfaction[\"satisfied\"].count()"
   ]
  },
  {
   "cell_type": "code",
   "execution_count": 10,
   "metadata": {},
   "outputs": [
    {
     "data": {
      "image/png": "[encoded data removed]",
      "text/plain": [
       "<Figure size 432x288 with 1 Axes>"
      ]
     },
     "metadata": {
      "needs_background": "light"
     },
     "output_type": "display_data"
    }
   ],
   "source": [
    "# Visualization of satisfide/unsatisfied ratings count\n",
    "\n",
    "satisfied = reviews_by_satisfaction.get_group(1)\n",
    "satisfied = satisfied[\"ratings\"].count()\n",
    "\n",
    "unsatisfied = reviews_by_satisfaction.get_group(0)\n",
    "unsatisfied = unsatisfied[\"ratings\"].count()\n",
    "\n",
    "plt.bar([\"satisfied\", \"unsatisfied\"], [satisfied, unsatisfied])\n",
    "plt.show()"
   ]
  },
  {
   "cell_type": "code",
   "execution_count": 11,
   "metadata": {},
   "outputs": [],
   "source": [
    "# Making all texts lowercase.\n",
    "data[\"reviews\"] = data[\"reviews\"].apply(lambda x: x.lower())\n",
    "\n",
    "# Removing numbers.\n",
    "data[\"reviews\"] = data[\"reviews\"].apply(lambda x: re.sub(r'[0-9]+', \"\", x))\n",
    "\n",
    "# Removing white space\n",
    "data[\"reviews\"] = data[\"reviews\"].apply(lambda x: x.strip())"
   ]
  },
  {
   "cell_type": "code",
   "execution_count": 12,
   "metadata": {},
   "outputs": [],
   "source": [
    "# Removing special characters.\n",
    "# Some characters replced here are words used in reviews that made no meaning.\n",
    "# iinstead of adding them to stopwords, they were removed here after being noticed along the line.\n",
    "data[\"reviews\"] = data[\"reviews\"].apply(lambda x: x.replace(\",\", \" \").replace(\":\", \" \").replace(\".\", \" \")\n",
    ".replace(\"'\", \" \").replace(\"%\", \" \").replace(\";\", \" \").replace(\"/\", \" \").replace('\"', \" \").replace(\"(\", \" \")\n",
    ".replace(\")\", \" \").replace(\"!\", \" \").replace(\"+\", \" \").replace(\"@\", \" \").replace(\"*\", \" \").replace(\"$\", \" \")\n",
    ".replace(\"&\", \" \").replace(\"-\", \" \").replace(\"?\", \" \").replace(\"#\", \" \").replace(\"  \", \" \").replace(\"£\", \" \")\n",
    ".replace(\"_\", \" \").replace(\" 🏽\", \" \").replace(\"\\n\", \" \").replace(\"`\", \" \").replace(\"aa\", \"\").replace(\"aaaaawwwwwsssoom\", \"\")\n",
    ".replace(\"aaa\", \"\"))\n",
    "\n",
    "# replacing emojis with text.\n",
    "# These emojis are emojis that I found to be most common to CODM reviews.\n",
    "data[\"reviews\"] = data[\"reviews\"].apply(lambda x: x.replace(\"😎\", \" cool_face \").replace(\"😴\", \" sleepy_face \")\n",
    ".replace(\"👍\", \" thumbs_up \").replace(\"👎\", \" thumbs_down \").replace(\"👌\", \" nice \").replace(\"🖕\", \" middle_finger \")\n",
    ".replace(\"😆\", \" excitement \").replace(\"😅\", \" awkward \").replace(\"⭐\", \" star \").replace(\"💯\", \" approval \")\n",
    ".replace(\"🤘\", \" cool \").replace(\"😉\", \" wink_face \").replace(\"❤\", \" love \").replace(\"😁\", \" cheer \")\n",
    ".replace(\"🎮\", \" controller \").replace(\"🌟\", \" glowing_star \").replace(\"😂\", \" laughing_face \")\n",
    ".replace(\"🙃\", \" upside-down-face\").replace(\"🤭\", \" surprise_face \").replace(\"😝\", \" playful_face \")\n",
    ".replace(\"😩\", \" exhaustion_face \").replace(\"❤️\", \" love \").replace(\"😍\", \" adoration \").replace(\"🙏\", \" pray \")\n",
    ".replace(\"🙄\", \" rolling_eyes \").replace(\"😭\", \" crying_face \").replace(\"😑\", \" neutral_face \").replace(\"😏\", \" smirk_face \")\n",
    ".replace(\"😡\", \" angry_face \").replace(\"😪\", \" sleepy_face \").replace(\"😓\", \" frustration_face \").replace(\"😀\", \" cheer_face \")\n",
    ".replace(\"😒\", \" unasumed_face \").replace(\" 🏝\", \" desert_island \").replace(\"🥴\", \" woozy_face \").replace(\"😊\", \" smiling_face \")\n",
    ".replace(\"🥰\", \" feeling_loved \").replace(\"😃\", \" cheer_face \").replace(\"🤬\",  \" being_vulgar \").replace(\"🥺\", \" pleeding_face \")\n",
    ".replace(\"🤣\", \" floor_laughing \").replace(\"😔\", \" dissapointed_face \").replace(\"🤞\", \" for_luck \").replace(\"🤡\", \" clown_face \")\n",
    ".replace(\"😤\", \" highly_annoyed \").replace(\"👿\", \" angry_face_with_horns \").replace(\"🙂\", \" weird_smile \").replace(\"😊\", \" happy \")\n",
    ".replace(\"💪\", \" flexed_biceps \").replace(\"🤯\", \" mind_blown \").replace(\"📌\", \"pin\").replace(\"😋\", \" tongue_out \")\n",
    ".replace(\"🤔\", \" thinking_emoji \").replace(\"😥\", \" sad_but_relieved_face \").replace(\"😞\", \" disappointed_face \")\n",
    ".replace(\"😕\", \" confused_face \").replace(\"💖\", \" sparkling_heart \").replace(\"💋\", \" kiss \").replace(\"👹\", \" devil_face \")\n",
    ".replace(\"👏\", \" clap_emoji \").replace(\"🤟\", \" i_love_you \").replace(\"🤷\", \" giving_up \").replace(\"🥵\",  \"hot_face \")\n",
    ".replace(\"😌\", \" relieved_face \").replace(\"😳\", \" flushed_face \").replace(\"🔥\", \" fire_emoji \").replace(\"🛑\", \" stop_sign \")\n",
    ".replace(\"💕\", \" two_hearts \").replace(\"😣\", \" persevering_face \").replace(\"☹️\", \" sad_face \").replace(\"🙌\", \" raising_hands \")\n",
    ".replace(\"😛\", \" tongue_out \").replace(\"🤧\", \" sneezing_face \").replace(\"😠\", \" angry_face \").replace(\"😕\",  \"confused_face \")\n",
    ".replace(\"🚫\", \" stop_sign \").replace(\"🧢\", \" cap \").replace(\"❗\", \" exclamation \").replace(\"🤩\", \" star_eyes \").replace(\"😐\", \" bored_face \")\n",
    ".replace(\"🤑\", \" money_eyes \").replace(\"⚠️\", \" caution_sign \").replace(\"🌦️\", \" rainy_weather \").replace(\"🔆\", \" high_brightness \")\n",
    ".replace(\"💙\", \" blue_heart \").replace(\"✌️\", \" peace_sign \").replace(\"💀\", \" skull\").replace(\"😜\", \" wink \").replace(\"🤗\", \" hugging_face \")\n",
    ".replace(\"💣\", \" bomb \").replace(\"💝\", \" wrapped_heart \").replace(\"♥️\", \" love \").replace(\"😢\", \" sad_face \").replace(\"📱\", \" phone \")\n",
    ".replace(\"🥳\", \" celebrate \").replace(\"💞\", \" rolling_hearts \").replace(\"👊\", \" fist \").replace(\"💰\", \" money_bag \").replace(\"💔\", \" heart_break \")\n",
    ".replace(\"✊🏾\", \" black_fist_up \").replace(\"😬\", \" discomfort \").replace(\"🤦‍♂️\", \" face_palm \").replace(\"🤪\", \" goofy_face \")\n",
    ".replace(\"📢\", \" hand_horn \").replace(\"💥\", \" bang \").replace(\"🤍\", \" white_heart \").replace(\"🧡\", \" orange_heart \").replace(\"😘\", \" kiss \")\n",
    ".replace(\"☺️\", \" smiling_face \").replace(\"🎯\", \" on_target \").replace(\"💜\", \" purple_heart \").replace(\"😫\", \" weary_face \")\n",
    ".replace(\"🎉\", \" celebration \").replace(\"👋\", \" hand_wave \").replace(\"🤙\", \" call_me_hand \").replace(\"🤢\", \" feeling_sick \")\n",
    ".replace(\"😟\", \" sad_face \"))"
   ]
  },
  {
   "cell_type": "code",
   "execution_count": 13,
   "metadata": {},
   "outputs": [
    {
     "data": {
      "text/html": [
       "<div>\n",
       "<style scoped>\n",
       "    .dataframe tbody tr th:only-of-type {\n",
       "        vertical-align: middle;\n",
       "    }\n",
       "\n",
       "    .dataframe tbody tr th {\n",
       "        vertical-align: top;\n",
       "    }\n",
       "\n",
       "    .dataframe thead th {\n",
       "        text-align: right;\n",
       "    }\n",
       "</style>\n",
       "<table border=\"1\" class=\"dataframe\">\n",
       "  <thead>\n",
       "    <tr style=\"text-align: right;\">\n",
       "      <th></th>\n",
       "      <th>reviews</th>\n",
       "      <th>ratings</th>\n",
       "      <th>satisfied</th>\n",
       "    </tr>\n",
       "  </thead>\n",
       "  <tbody>\n",
       "    <tr>\n",
       "      <th>0</th>\n",
       "      <td>i ve been playing for years now and it s been ...</td>\n",
       "      <td>4</td>\n",
       "      <td>1</td>\n",
       "    </tr>\n",
       "    <tr>\n",
       "      <th>1</th>\n",
       "      <td>an annoying experience all round ever since th...</td>\n",
       "      <td>1</td>\n",
       "      <td>0</td>\n",
       "    </tr>\n",
       "    <tr>\n",
       "      <th>2</th>\n",
       "      <td>i love the game though it s close to real but ...</td>\n",
       "      <td>3</td>\n",
       "      <td>1</td>\n",
       "    </tr>\n",
       "    <tr>\n",
       "      <th>3</th>\n",
       "      <td>i ve been playing for years now and it s been ...</td>\n",
       "      <td>4</td>\n",
       "      <td>1</td>\n",
       "    </tr>\n",
       "    <tr>\n",
       "      <th>4</th>\n",
       "      <td>an annoying experience all round ever since th...</td>\n",
       "      <td>1</td>\n",
       "      <td>0</td>\n",
       "    </tr>\n",
       "  </tbody>\n",
       "</table>\n",
       "</div>"
      ],
      "text/plain": [
       "                                             reviews  ratings  satisfied\n",
       "0  i ve been playing for years now and it s been ...        4          1\n",
       "1  an annoying experience all round ever since th...        1          0\n",
       "2  i love the game though it s close to real but ...        3          1\n",
       "3  i ve been playing for years now and it s been ...        4          1\n",
       "4  an annoying experience all round ever since th...        1          0"
      ]
     },
     "execution_count": 13,
     "metadata": {},
     "output_type": "execute_result"
    }
   ],
   "source": [
    "data.head()"
   ]
  },
  {
   "cell_type": "code",
   "execution_count": 14,
   "metadata": {},
   "outputs": [],
   "source": [
    "# word tokenization\n",
    "text_tokens = data[\"reviews\"].apply(lambda review : word_tokenize(review, language=\"english\"))\n",
    "\n",
    "# removal of stop words, word stemming and creation of new column\n",
    "stemmer = PorterStemmer()\n",
    "stop = stopwords.words('english')\n",
    "data[\"final_word_corpus\"] = data['reviews'].apply(lambda x: ' '.join([stemmer.stem(word) for word in x.lower().split() if word not in (stop)]))"
   ]
  },
  {
   "cell_type": "code",
   "execution_count": 15,
   "metadata": {},
   "outputs": [
    {
     "data": {
      "text/html": [
       "<div>\n",
       "<style scoped>\n",
       "    .dataframe tbody tr th:only-of-type {\n",
       "        vertical-align: middle;\n",
       "    }\n",
       "\n",
       "    .dataframe tbody tr th {\n",
       "        vertical-align: top;\n",
       "    }\n",
       "\n",
       "    .dataframe thead th {\n",
       "        text-align: right;\n",
       "    }\n",
       "</style>\n",
       "<table border=\"1\" class=\"dataframe\">\n",
       "  <thead>\n",
       "    <tr style=\"text-align: right;\">\n",
       "      <th></th>\n",
       "      <th>reviews</th>\n",
       "      <th>ratings</th>\n",
       "      <th>satisfied</th>\n",
       "      <th>final_word_corpus</th>\n",
       "    </tr>\n",
       "  </thead>\n",
       "  <tbody>\n",
       "    <tr>\n",
       "      <th>0</th>\n",
       "      <td>i ve been playing for years now and it s been ...</td>\n",
       "      <td>4</td>\n",
       "      <td>1</td>\n",
       "      <td>play year quit addict u develop plss fix issu ...</td>\n",
       "    </tr>\n",
       "    <tr>\n",
       "      <th>1</th>\n",
       "      <td>an annoying experience all round ever since th...</td>\n",
       "      <td>1</td>\n",
       "      <td>0</td>\n",
       "      <td>annoy experi round ever sinc updat season wild...</td>\n",
       "    </tr>\n",
       "    <tr>\n",
       "      <th>2</th>\n",
       "      <td>i love the game though it s close to real but ...</td>\n",
       "      <td>3</td>\n",
       "      <td>1</td>\n",
       "      <td>love game though close real greatest problem c...</td>\n",
       "    </tr>\n",
       "    <tr>\n",
       "      <th>3</th>\n",
       "      <td>i ve been playing for years now and it s been ...</td>\n",
       "      <td>4</td>\n",
       "      <td>1</td>\n",
       "      <td>play year quit addict u develop plss fix issu ...</td>\n",
       "    </tr>\n",
       "    <tr>\n",
       "      <th>4</th>\n",
       "      <td>an annoying experience all round ever since th...</td>\n",
       "      <td>1</td>\n",
       "      <td>0</td>\n",
       "      <td>annoy experi round ever sinc updat season wild...</td>\n",
       "    </tr>\n",
       "  </tbody>\n",
       "</table>\n",
       "</div>"
      ],
      "text/plain": [
       "                                             reviews  ratings  satisfied  \\\n",
       "0  i ve been playing for years now and it s been ...        4          1   \n",
       "1  an annoying experience all round ever since th...        1          0   \n",
       "2  i love the game though it s close to real but ...        3          1   \n",
       "3  i ve been playing for years now and it s been ...        4          1   \n",
       "4  an annoying experience all round ever since th...        1          0   \n",
       "\n",
       "                                   final_word_corpus  \n",
       "0  play year quit addict u develop plss fix issu ...  \n",
       "1  annoy experi round ever sinc updat season wild...  \n",
       "2  love game though close real greatest problem c...  \n",
       "3  play year quit addict u develop plss fix issu ...  \n",
       "4  annoy experi round ever sinc updat season wild...  "
      ]
     },
     "execution_count": 15,
     "metadata": {},
     "output_type": "execute_result"
    }
   ],
   "source": [
    "data.head()"
   ]
  },
  {
   "cell_type": "code",
   "execution_count": 16,
   "metadata": {},
   "outputs": [
    {
     "data": {
      "text/plain": [
       "'wonder concept graphic gameplay outta interact seamless commun connect superb one issu mani updat mean amount time need updat game year frustrat heck type updat app yet excit new content drawback need restor previou content activis could someth app would guarante thank hardwork though thumbs_up'"
      ]
     },
     "execution_count": 16,
     "metadata": {},
     "output_type": "execute_result"
    }
   ],
   "source": [
    "# Stemming of word tokens - data[\"final_word_corpus\"]\n",
    "test =data[\"final_word_corpus\"][8]\n",
    "test"
   ]
  },
  {
   "cell_type": "code",
   "execution_count": 17,
   "metadata": {},
   "outputs": [
    {
     "data": {
      "text/html": [
       "<div>\n",
       "<style scoped>\n",
       "    .dataframe tbody tr th:only-of-type {\n",
       "        vertical-align: middle;\n",
       "    }\n",
       "\n",
       "    .dataframe tbody tr th {\n",
       "        vertical-align: top;\n",
       "    }\n",
       "\n",
       "    .dataframe thead th {\n",
       "        text-align: right;\n",
       "    }\n",
       "</style>\n",
       "<table border=\"1\" class=\"dataframe\">\n",
       "  <thead>\n",
       "    <tr style=\"text-align: right;\">\n",
       "      <th></th>\n",
       "      <th>final_word_corpus</th>\n",
       "      <th>satisfied</th>\n",
       "    </tr>\n",
       "  </thead>\n",
       "  <tbody>\n",
       "    <tr>\n",
       "      <th>0</th>\n",
       "      <td>play year quit addict u develop plss fix issu ...</td>\n",
       "      <td>1</td>\n",
       "    </tr>\n",
       "    <tr>\n",
       "      <th>1</th>\n",
       "      <td>annoy experi round ever sinc updat season wild...</td>\n",
       "      <td>0</td>\n",
       "    </tr>\n",
       "    <tr>\n",
       "      <th>2</th>\n",
       "      <td>love game though close real greatest problem c...</td>\n",
       "      <td>1</td>\n",
       "    </tr>\n",
       "    <tr>\n",
       "      <th>3</th>\n",
       "      <td>play year quit addict u develop plss fix issu ...</td>\n",
       "      <td>1</td>\n",
       "    </tr>\n",
       "    <tr>\n",
       "      <th>4</th>\n",
       "      <td>annoy experi round ever sinc updat season wild...</td>\n",
       "      <td>0</td>\n",
       "    </tr>\n",
       "  </tbody>\n",
       "</table>\n",
       "</div>"
      ],
      "text/plain": [
       "                                   final_word_corpus  satisfied\n",
       "0  play year quit addict u develop plss fix issu ...          1\n",
       "1  annoy experi round ever sinc updat season wild...          0\n",
       "2  love game though close real greatest problem c...          1\n",
       "3  play year quit addict u develop plss fix issu ...          1\n",
       "4  annoy experi round ever sinc updat season wild...          0"
      ]
     },
     "execution_count": 17,
     "metadata": {},
     "output_type": "execute_result"
    }
   ],
   "source": [
    "# extracting needed columns from entire DataFrame.\n",
    "corpus_satisfaction = data[[\"final_word_corpus\", \"satisfied\"]]\n",
    "# corpus_satisfaction.to_csv(\"reviews_corpus.csv\", index=False)\n",
    "corpus_satisfaction.head()"
   ]
  },
  {
   "cell_type": "code",
   "execution_count": 18,
   "metadata": {},
   "outputs": [],
   "source": [
    "# Grouping 'final_word_corpus' by satisfaction\n",
    "reviews_by_satisfaction = corpus_satisfaction.groupby(\"satisfied\")\n",
    "satisfied = reviews_by_satisfaction.get_group(1) # satisfied users word tokens\n",
    "unsatisfied = reviews_by_satisfaction.get_group(0) # unsatisfied users word tokens\n",
    "\n",
    "\n",
    "satisfied_corpos = [] # 2D array of satisfied reviews words\n",
    "unsatisfied_corpos = [] # 2D array of ussatisfied reviews words\n",
    "\n",
    "\n",
    "# extracting every word in satisfied users review\n",
    "for word in satisfied[\"final_word_corpus\"]:\n",
    "    satisfied_corpos.append(word.split())\n",
    "final_satisfied_corpos = [word for words in satisfied_corpos for word in words] # 1D array of satisfied reviews words\n",
    "final_satisfied_corpos_string = \" \".join(final_satisfied_corpos) # String containing all satisfied user tokens\n",
    "\n",
    "# extracting every word in unsatisfied users review\n",
    "for word in unsatisfied[\"final_word_corpus\"]:\n",
    "    unsatisfied_corpos.append(word.split())\n",
    "final_unsatisfied_corpos = [word for words in unsatisfied_corpos for word in words] # 1D array of unsatisfied reviews words\n",
    "final_unsatisfied_corpos_string = \" \".join(final_unsatisfied_corpos) # String containing all unsatisfied user tokens\n",
    "\n",
    "# Adding words from satisfied and unsatisfied reviews into dictionary for frequency count\n",
    "satisfied_unsatisfied_words ={\n",
    "    \"satisfied\": final_satisfied_corpos_string,\n",
    "    \"unsatisfied\": final_unsatisfied_corpos_string\n",
    "}"
   ]
  },
  {
   "cell_type": "code",
   "execution_count": 19,
   "metadata": {},
   "outputs": [
    {
     "data": {
      "text/html": [
       "<div>\n",
       "<style scoped>\n",
       "    .dataframe tbody tr th:only-of-type {\n",
       "        vertical-align: middle;\n",
       "    }\n",
       "\n",
       "    .dataframe tbody tr th {\n",
       "        vertical-align: top;\n",
       "    }\n",
       "\n",
       "    .dataframe thead th {\n",
       "        text-align: right;\n",
       "    }\n",
       "</style>\n",
       "<table border=\"1\" class=\"dataframe\">\n",
       "  <thead>\n",
       "    <tr style=\"text-align: right;\">\n",
       "      <th></th>\n",
       "      <th>review_tokens</th>\n",
       "    </tr>\n",
       "  </thead>\n",
       "  <tbody>\n",
       "    <tr>\n",
       "      <th>satisfied</th>\n",
       "      <td>play year quit addict u develop plss fix issu ...</td>\n",
       "    </tr>\n",
       "    <tr>\n",
       "      <th>unsatisfied</th>\n",
       "      <td>annoy experi round ever sinc updat season wild...</td>\n",
       "    </tr>\n",
       "  </tbody>\n",
       "</table>\n",
       "</div>"
      ],
      "text/plain": [
       "                                                 review_tokens\n",
       "satisfied    play year quit addict u develop plss fix issu ...\n",
       "unsatisfied  annoy experi round ever sinc updat season wild..."
      ]
     },
     "execution_count": 19,
     "metadata": {},
     "output_type": "execute_result"
    }
   ],
   "source": [
    "# DataFrame of all word lemmas used in satisfied and unsatisfied reviews \n",
    "concatenated_reviews = pd.DataFrame(satisfied_unsatisfied_words, index=[\"review_tokens\"])\n",
    "concatenated_reviews = concatenated_reviews.T # transposed dataframe\n",
    "concatenated_reviews"
   ]
  },
  {
   "cell_type": "code",
   "execution_count": 20,
   "metadata": {},
   "outputs": [],
   "source": [
    "# Calculating Document term matrix and converting to DataFrame.\n",
    "cv = CountVectorizer(stop_words=\"english\")\n",
    "concatenated_reviews_cv = cv.fit_transform(concatenated_reviews[\"review_tokens\"])\n",
    "document_term_matrix = pd.DataFrame(concatenated_reviews_cv.toarray(),columns =cv.get_feature_names_out(), index=[\"satisfied\", \"unsatisfied\"])"
   ]
  },
  {
   "cell_type": "code",
   "execution_count": 21,
   "metadata": {},
   "outputs": [],
   "source": [
    "# Transposing dataframe for easy manipulation across columns\n",
    "document_term_matrix = document_term_matrix.T"
   ]
  },
  {
   "cell_type": "code",
   "execution_count": 25,
   "metadata": {},
   "outputs": [
    {
     "name": "stdout",
     "output_type": "stream",
     "text": [
      "Data Frame containing top words for each reviews type\n"
     ]
    },
    {
     "data": {
      "text/html": [
       "<div>\n",
       "<style scoped>\n",
       "    .dataframe tbody tr th:only-of-type {\n",
       "        vertical-align: middle;\n",
       "    }\n",
       "\n",
       "    .dataframe tbody tr th {\n",
       "        vertical-align: top;\n",
       "    }\n",
       "\n",
       "    .dataframe thead th {\n",
       "        text-align: right;\n",
       "    }\n",
       "</style>\n",
       "<table border=\"1\" class=\"dataframe\">\n",
       "  <thead>\n",
       "    <tr style=\"text-align: right;\">\n",
       "      <th></th>\n",
       "      <th>satisfied</th>\n",
       "      <th>unsatisfied</th>\n",
       "    </tr>\n",
       "  </thead>\n",
       "  <tbody>\n",
       "    <tr>\n",
       "      <th>0</th>\n",
       "      <td>game</td>\n",
       "      <td>game</td>\n",
       "    </tr>\n",
       "    <tr>\n",
       "      <th>1</th>\n",
       "      <td>play</td>\n",
       "      <td>play</td>\n",
       "    </tr>\n",
       "    <tr>\n",
       "      <th>2</th>\n",
       "      <td>like</td>\n",
       "      <td>updat</td>\n",
       "    </tr>\n",
       "    <tr>\n",
       "      <th>3</th>\n",
       "      <td>good</td>\n",
       "      <td>time</td>\n",
       "    </tr>\n",
       "    <tr>\n",
       "      <th>4</th>\n",
       "      <td>updat</td>\n",
       "      <td>fix</td>\n",
       "    </tr>\n",
       "    <tr>\n",
       "      <th>5</th>\n",
       "      <td>love</td>\n",
       "      <td>like</td>\n",
       "    </tr>\n",
       "    <tr>\n",
       "      <th>6</th>\n",
       "      <td>great</td>\n",
       "      <td>download</td>\n",
       "    </tr>\n",
       "    <tr>\n",
       "      <th>7</th>\n",
       "      <td>graphic</td>\n",
       "      <td>use</td>\n",
       "    </tr>\n",
       "    <tr>\n",
       "      <th>8</th>\n",
       "      <td>time</td>\n",
       "      <td>match</td>\n",
       "    </tr>\n",
       "    <tr>\n",
       "      <th>9</th>\n",
       "      <td>mobil</td>\n",
       "      <td>pleas</td>\n",
       "    </tr>\n",
       "  </tbody>\n",
       "</table>\n",
       "</div>"
      ],
      "text/plain": [
       "  satisfied unsatisfied\n",
       "0      game        game\n",
       "1      play        play\n",
       "2      like       updat\n",
       "3      good        time\n",
       "4     updat         fix\n",
       "5      love        like\n",
       "6     great    download\n",
       "7   graphic         use\n",
       "8      time       match\n",
       "9     mobil       pleas"
      ]
     },
     "execution_count": 25,
     "metadata": {},
     "output_type": "execute_result"
    }
   ],
   "source": [
    "top_terms_dict = {}\n",
    "for col in document_term_matrix.columns:\n",
    "    top_terms = document_term_matrix[col].sort_values(ascending=False).head(50)\n",
    "    top_terms_dict[col] = top_terms.index\n",
    "\n",
    "# Dataframe of top words\n",
    "top_terms_df= pd.DataFrame(top_terms_dict)\n",
    "print(\"Data Frame containing top words for each reviews type\")\n",
    "top_terms_df.head(10)"
   ]
  },
  {
   "cell_type": "markdown",
   "metadata": {},
   "source": [
    "> The above dataframe suggests that;\n",
    "- both satisfiied and unsatisfied user reviews share most common words. Hence, those words need to be removed as the \n",
    "  don't add much value to the difference between both review types"
   ]
  }
 ],
 "metadata": {
  "kernelspec": {
   "display_name": "Python 3.9.12 ('base')",
   "language": "python",
   "name": "python3"
  },
  "language_info": {
   "codemirror_mode": {
    "name": "ipython",
    "version": 3
   },
   "file_extension": ".py",
   "mimetype": "text/x-python",
   "name": "python",
   "nbconvert_exporter": "python",
   "pygments_lexer": "ipython3",
   "version": "3.9.12"
  },
  "vscode": {
   "interpreter": {
    "hash": "06f5ec8c6d43280c87799fbde2fb29fbfcf5d2d4062a31ee84a6ee8649311409"
   }
  }
 },
 "nbformat": 4,
 "nbformat_minor": 2
}
