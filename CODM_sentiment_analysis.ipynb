{
 "cells": [
  {
   "cell_type": "markdown",
   "metadata": {},
   "source": [
    "## Task/End goal\n",
    "> Be able to classify CODM users as satsfied/dissatisfied based on their review"
   ]
  },
  {
   "cell_type": "code",
   "execution_count": 61,
   "metadata": {},
   "outputs": [],
   "source": [
    "import re\n",
    "import nltk\n",
    "import pandas as pd\n",
    "from nltk.corpus import stopwords\n",
    "from matplotlib import pyplot as plt\n",
    "from nltk.tokenize import word_tokenize"
   ]
  },
  {
   "cell_type": "code",
   "execution_count": 188,
   "metadata": {},
   "outputs": [],
   "source": [
    "data = pd.read_csv(\"Call Of Duty.csv\")"
   ]
  },
  {
   "cell_type": "code",
   "execution_count": 189,
   "metadata": {},
   "outputs": [
    {
     "data": {
      "text/html": [
       "<div>\n",
       "<style scoped>\n",
       "    .dataframe tbody tr th:only-of-type {\n",
       "        vertical-align: middle;\n",
       "    }\n",
       "\n",
       "    .dataframe tbody tr th {\n",
       "        vertical-align: top;\n",
       "    }\n",
       "\n",
       "    .dataframe thead th {\n",
       "        text-align: right;\n",
       "    }\n",
       "</style>\n",
       "<table border=\"1\" class=\"dataframe\">\n",
       "  <thead>\n",
       "    <tr style=\"text-align: right;\">\n",
       "      <th></th>\n",
       "      <th>reviews</th>\n",
       "      <th>ratings</th>\n",
       "    </tr>\n",
       "  </thead>\n",
       "  <tbody>\n",
       "    <tr>\n",
       "      <th>0</th>\n",
       "      <td>I've been playing for years now and it's been ...</td>\n",
       "      <td>4</td>\n",
       "    </tr>\n",
       "    <tr>\n",
       "      <th>1</th>\n",
       "      <td>An annoying experience all round. Ever since t...</td>\n",
       "      <td>1</td>\n",
       "    </tr>\n",
       "    <tr>\n",
       "      <th>2</th>\n",
       "      <td>I love the game though. It's close to real, bu...</td>\n",
       "      <td>3</td>\n",
       "    </tr>\n",
       "    <tr>\n",
       "      <th>3</th>\n",
       "      <td>I've been playing for years now and it's been ...</td>\n",
       "      <td>4</td>\n",
       "    </tr>\n",
       "    <tr>\n",
       "      <th>4</th>\n",
       "      <td>An annoying experience all round. Ever since t...</td>\n",
       "      <td>1</td>\n",
       "    </tr>\n",
       "  </tbody>\n",
       "</table>\n",
       "</div>"
      ],
      "text/plain": [
       "                                             reviews  ratings\n",
       "0  I've been playing for years now and it's been ...        4\n",
       "1  An annoying experience all round. Ever since t...        1\n",
       "2  I love the game though. It's close to real, bu...        3\n",
       "3  I've been playing for years now and it's been ...        4\n",
       "4  An annoying experience all round. Ever since t...        1"
      ]
     },
     "execution_count": 189,
     "metadata": {},
     "output_type": "execute_result"
    }
   ],
   "source": [
    "data.head()"
   ]
  },
  {
   "cell_type": "markdown",
   "metadata": {},
   "source": [
    "## EDA/Feature engineering"
   ]
  },
  {
   "cell_type": "code",
   "execution_count": 190,
   "metadata": {},
   "outputs": [
    {
     "name": "stdout",
     "output_type": "stream",
     "text": [
      "<class 'pandas.core.frame.DataFrame'>\n",
      "RangeIndex: 3882 entries, 0 to 3881\n",
      "Data columns (total 2 columns):\n",
      " #   Column   Non-Null Count  Dtype \n",
      "---  ------   --------------  ----- \n",
      " 0   reviews  3882 non-null   object\n",
      " 1   ratings  3882 non-null   int64 \n",
      "dtypes: int64(1), object(1)\n",
      "memory usage: 60.8+ KB\n"
     ]
    }
   ],
   "source": [
    "data.info()"
   ]
  },
  {
   "cell_type": "code",
   "execution_count": 191,
   "metadata": {},
   "outputs": [
    {
     "data": {
      "text/plain": [
       "reviews    0\n",
       "ratings    0\n",
       "dtype: int64"
      ]
     },
     "execution_count": 191,
     "metadata": {},
     "output_type": "execute_result"
    }
   ],
   "source": [
    "data.isna().sum()"
   ]
  },
  {
   "cell_type": "code",
   "execution_count": 192,
   "metadata": {},
   "outputs": [
    {
     "data": {
      "text/html": [
       "<div>\n",
       "<style scoped>\n",
       "    .dataframe tbody tr th:only-of-type {\n",
       "        vertical-align: middle;\n",
       "    }\n",
       "\n",
       "    .dataframe tbody tr th {\n",
       "        vertical-align: top;\n",
       "    }\n",
       "\n",
       "    .dataframe thead th {\n",
       "        text-align: right;\n",
       "    }\n",
       "</style>\n",
       "<table border=\"1\" class=\"dataframe\">\n",
       "  <thead>\n",
       "    <tr style=\"text-align: right;\">\n",
       "      <th></th>\n",
       "      <th>ratings</th>\n",
       "    </tr>\n",
       "  </thead>\n",
       "  <tbody>\n",
       "    <tr>\n",
       "      <th>count</th>\n",
       "      <td>3882.000000</td>\n",
       "    </tr>\n",
       "    <tr>\n",
       "      <th>mean</th>\n",
       "      <td>3.202473</td>\n",
       "    </tr>\n",
       "    <tr>\n",
       "      <th>std</th>\n",
       "      <td>1.572016</td>\n",
       "    </tr>\n",
       "    <tr>\n",
       "      <th>min</th>\n",
       "      <td>1.000000</td>\n",
       "    </tr>\n",
       "    <tr>\n",
       "      <th>25%</th>\n",
       "      <td>2.000000</td>\n",
       "    </tr>\n",
       "    <tr>\n",
       "      <th>50%</th>\n",
       "      <td>3.000000</td>\n",
       "    </tr>\n",
       "    <tr>\n",
       "      <th>75%</th>\n",
       "      <td>5.000000</td>\n",
       "    </tr>\n",
       "    <tr>\n",
       "      <th>max</th>\n",
       "      <td>5.000000</td>\n",
       "    </tr>\n",
       "  </tbody>\n",
       "</table>\n",
       "</div>"
      ],
      "text/plain": [
       "           ratings\n",
       "count  3882.000000\n",
       "mean      3.202473\n",
       "std       1.572016\n",
       "min       1.000000\n",
       "25%       2.000000\n",
       "50%       3.000000\n",
       "75%       5.000000\n",
       "max       5.000000"
      ]
     },
     "execution_count": 192,
     "metadata": {},
     "output_type": "execute_result"
    }
   ],
   "source": [
    "data.describe()"
   ]
  },
  {
   "cell_type": "code",
   "execution_count": 193,
   "metadata": {},
   "outputs": [],
   "source": [
    "# Classifying reviews as binary (Satisfied =1, dissatisfied = 0)\n",
    "# Satisfied user == 3+ stars rating, dissatisfied == 2< stars rating\n",
    "data[\"satisfied\"] = data[\"ratings\"].apply(lambda x: 1 if x >=3 else 0)"
   ]
  },
  {
   "cell_type": "code",
   "execution_count": 194,
   "metadata": {},
   "outputs": [
    {
     "data": {
      "text/html": [
       "<div>\n",
       "<style scoped>\n",
       "    .dataframe tbody tr th:only-of-type {\n",
       "        vertical-align: middle;\n",
       "    }\n",
       "\n",
       "    .dataframe tbody tr th {\n",
       "        vertical-align: top;\n",
       "    }\n",
       "\n",
       "    .dataframe thead th {\n",
       "        text-align: right;\n",
       "    }\n",
       "</style>\n",
       "<table border=\"1\" class=\"dataframe\">\n",
       "  <thead>\n",
       "    <tr style=\"text-align: right;\">\n",
       "      <th></th>\n",
       "      <th>reviews</th>\n",
       "      <th>ratings</th>\n",
       "      <th>satisfied</th>\n",
       "    </tr>\n",
       "  </thead>\n",
       "  <tbody>\n",
       "    <tr>\n",
       "      <th>0</th>\n",
       "      <td>I've been playing for years now and it's been ...</td>\n",
       "      <td>4</td>\n",
       "      <td>1</td>\n",
       "    </tr>\n",
       "    <tr>\n",
       "      <th>1</th>\n",
       "      <td>An annoying experience all round. Ever since t...</td>\n",
       "      <td>1</td>\n",
       "      <td>0</td>\n",
       "    </tr>\n",
       "    <tr>\n",
       "      <th>2</th>\n",
       "      <td>I love the game though. It's close to real, bu...</td>\n",
       "      <td>3</td>\n",
       "      <td>1</td>\n",
       "    </tr>\n",
       "    <tr>\n",
       "      <th>3</th>\n",
       "      <td>I've been playing for years now and it's been ...</td>\n",
       "      <td>4</td>\n",
       "      <td>1</td>\n",
       "    </tr>\n",
       "    <tr>\n",
       "      <th>4</th>\n",
       "      <td>An annoying experience all round. Ever since t...</td>\n",
       "      <td>1</td>\n",
       "      <td>0</td>\n",
       "    </tr>\n",
       "  </tbody>\n",
       "</table>\n",
       "</div>"
      ],
      "text/plain": [
       "                                             reviews  ratings  satisfied\n",
       "0  I've been playing for years now and it's been ...        4          1\n",
       "1  An annoying experience all round. Ever since t...        1          0\n",
       "2  I love the game though. It's close to real, bu...        3          1\n",
       "3  I've been playing for years now and it's been ...        4          1\n",
       "4  An annoying experience all round. Ever since t...        1          0"
      ]
     },
     "execution_count": 194,
     "metadata": {},
     "output_type": "execute_result"
    }
   ],
   "source": [
    "data.head()"
   ]
  },
  {
   "cell_type": "code",
   "execution_count": 195,
   "metadata": {},
   "outputs": [
    {
     "data": {
      "text/plain": [
       "satisfied\n",
       "0    1382\n",
       "1    2500\n",
       "Name: satisfied, dtype: int64"
      ]
     },
     "execution_count": 195,
     "metadata": {},
     "output_type": "execute_result"
    }
   ],
   "source": [
    "# users grouped by satisfaction status\n",
    "reviews_by_satisfaction = data.groupby(\"satisfied\")\n",
    "\n",
    "# number of satisfied and dissatisfied users\n",
    "reviews_by_satisfaction[\"satisfied\"].count()"
   ]
  },
  {
   "cell_type": "code",
   "execution_count": 196,
   "metadata": {},
   "outputs": [
    {
     "data": {
      "image/png": "[encoded data removed]",
      "text/plain": [
       "<Figure size 432x288 with 1 Axes>"
      ]
     },
     "metadata": {
      "needs_background": "light"
     },
     "output_type": "display_data"
    }
   ],
   "source": [
    "# Visualization of satisfide/dissatisfied ratings count\n",
    "\n",
    "satisfied = reviews_by_satisfaction.get_group(1)\n",
    "satisfied = satisfied[\"ratings\"].count()\n",
    "\n",
    "dissatisfied = reviews_by_satisfaction.get_group(0)\n",
    "dissatisfied = dissatisfied[\"ratings\"].count()\n",
    "\n",
    "plt.bar([\"satisfied\", \"dissatisfied\"], [satisfied, dissatisfied])\n",
    "plt.show()"
   ]
  },
  {
   "cell_type": "code",
   "execution_count": 199,
   "metadata": {},
   "outputs": [],
   "source": [
    "# Making all texts lowercase.\n",
    "data[\"reviews\"] = data[\"reviews\"].apply(lambda x: x.lower())\n",
    "\n",
    "# Removing numbers.\n",
    "data[\"reviews\"] = data[\"reviews\"].apply(lambda x: re.sub(r'[0-9]+', \"\", x))\n",
    "\n",
    "# Removing white space\n",
    "data[\"reviews\"] = data[\"reviews\"].apply(lambda x: x.strip())\n",
    "\n",
    "# replacing emojis with text.\n",
    "# These emojis are emojis that I found to be most common to CODM reviews.\n",
    "data[\"reviews\"] = data[\"reviews\"].apply(lambda x: x.replace(\"😎\", \" cool_face \").replace(\"😴\", \" sleepy_face \")\n",
    ".replace(\"👍\", \" thumbs_up \").replace(\"👎\", \" thumbs_down \").replace(\"👌\", \" nice \").replace(\"🖕\", \" middle_finger \")\n",
    ".replace(\"😆\", \" excitement \").replace(\"😅\", \" awkward \").replace(\"⭐\", \" star \").replace(\"💯\", \" approval \")\n",
    ".replace(\"🤘\", \" cool \").replace(\"😉\", \" wink_face \").replace(\"❤\", \" love \").replace(\"😁\", \" cheer \")\n",
    ".replace(\"🎮\", \" controller \").replace(\"🌟\", \" glowing_star \").replace(\"😂\", \" laughing_face \")\n",
    ".replace(\"🙃\", \" upside-down-face\").replace(\"🤭\", \" surprise_face \").replace(\"😝\", \" playful_face \")\n",
    ".replace(\"😩\", \" exhaustion_face \").replace(\"❤️\", \" love \").replace(\"😍\", \" adoration \").replace(\"🙏\", \" pray \")\n",
    ".replace(\"🙄\", \" rolling_eyes \").replace(\"😭\", \" crying_face \").replace(\"😑\", \" neutral_face \").replace(\"😏\", \" smirk_face \")\n",
    ".replace(\"😡\", \" angry_face \").replace(\"😪\", \" sleepy_face \").replace(\"😓\", \" frustration_face \").replace(\"😀\", \" cheer_face \")\n",
    ".replace(\"😒\", \" unasumed_face \").replace(\" 🏝\", \" desert_island \").replace(\"🥴\", \" woozy_face \").replace(\"😊\", \" smiling_face \")\n",
    ".replace(\"🥰\", \" feeling_loved \").replace(\"😃\", \" cheer_face \").replace(\"🤬\",  \" being_vulgar \").replace(\"🥺\", \" pleeding_face \")\n",
    ".replace(\"🤣\", \" floor_laughing \").replace(\"😔\", \" dissapointed_face \").replace(\"🤞\", \" for_luck \").replace(\"🤡\", \" clown_face \")\n",
    ".replace(\"😤\", \" highly_annoyed \").replace(\"👿\", \" angry_face_with_horns \").replace(\"🙂\", \" weird_smile \").replace(\"😊\", \" happy \")\n",
    ".replace(\"💪\", \" flexed_biceps \").replace(\"🤯\", \" mind_blown \").replace(\"📌\", \"pin\").replace(\"😋\", \" tongue_out \"))\n",
    "\n",
    "# Removing special characters.\n",
    "data[\"reviews\"] = data[\"reviews\"].apply(lambda x: x.replace(\",\", \" \").replace(\":\", \" \").replace(\".\", \" \")\n",
    ".replace(\"'\", \" \").replace(\"%\", \" \").replace(\";\", \" \").replace(\"/\", \" \").replace('\"', \" \").replace(\"(\", \" \")\n",
    ".replace(\")\", \" \").replace(\"!\", \" \").replace(\"+\", \" \").replace(\"@\", \" \").replace(\"*\", \" \").replace(\"$\", \" \")\n",
    ".replace(\"&\", \" \").replace(\"-\", \" \").replace(\"?\", \" \").replace(\"#\", \" \").replace(\"  \", \" \"))\n",
    "\n",
    "# word tokenization\n",
    "text_tokens = data[\"reviews\"].apply(lambda review : word_tokenize(review, language=\"english\"))\n",
    "\n",
    "# removal of stop words\n",
    "stop = stopwords.words('english')\n",
    "data[\"final_tokens\"] = data['reviews'].apply(lambda x: ' '.join([word for word in x.lower().split() if word not in (stop)]))"
   ]
  },
  {
   "cell_type": "code",
   "execution_count": 200,
   "metadata": {},
   "outputs": [
    {
     "data": {
      "text/html": [
       "<div>\n",
       "<style scoped>\n",
       "    .dataframe tbody tr th:only-of-type {\n",
       "        vertical-align: middle;\n",
       "    }\n",
       "\n",
       "    .dataframe tbody tr th {\n",
       "        vertical-align: top;\n",
       "    }\n",
       "\n",
       "    .dataframe thead th {\n",
       "        text-align: right;\n",
       "    }\n",
       "</style>\n",
       "<table border=\"1\" class=\"dataframe\">\n",
       "  <thead>\n",
       "    <tr style=\"text-align: right;\">\n",
       "      <th></th>\n",
       "      <th>reviews</th>\n",
       "      <th>ratings</th>\n",
       "      <th>satisfied</th>\n",
       "      <th>final_tokens</th>\n",
       "    </tr>\n",
       "  </thead>\n",
       "  <tbody>\n",
       "    <tr>\n",
       "      <th>0</th>\n",
       "      <td>i ve been playing for years now and it s been ...</td>\n",
       "      <td>4</td>\n",
       "      <td>1</td>\n",
       "      <td>playing years quite addictive u developers pls...</td>\n",
       "    </tr>\n",
       "    <tr>\n",
       "      <th>1</th>\n",
       "      <td>an annoying experience all round ever since th...</td>\n",
       "      <td>1</td>\n",
       "      <td>0</td>\n",
       "      <td>annoying experience round ever since update se...</td>\n",
       "    </tr>\n",
       "    <tr>\n",
       "      <th>2</th>\n",
       "      <td>i love the game though it s close to real but ...</td>\n",
       "      <td>3</td>\n",
       "      <td>1</td>\n",
       "      <td>love game though close real greatest problem c...</td>\n",
       "    </tr>\n",
       "    <tr>\n",
       "      <th>3</th>\n",
       "      <td>i ve been playing for years now and it s been ...</td>\n",
       "      <td>4</td>\n",
       "      <td>1</td>\n",
       "      <td>playing years quite addictive u developers pls...</td>\n",
       "    </tr>\n",
       "    <tr>\n",
       "      <th>4</th>\n",
       "      <td>an annoying experience all round ever since th...</td>\n",
       "      <td>1</td>\n",
       "      <td>0</td>\n",
       "      <td>annoying experience round ever since update se...</td>\n",
       "    </tr>\n",
       "  </tbody>\n",
       "</table>\n",
       "</div>"
      ],
      "text/plain": [
       "                                             reviews  ratings  satisfied  \\\n",
       "0  i ve been playing for years now and it s been ...        4          1   \n",
       "1  an annoying experience all round ever since th...        1          0   \n",
       "2  i love the game though it s close to real but ...        3          1   \n",
       "3  i ve been playing for years now and it s been ...        4          1   \n",
       "4  an annoying experience all round ever since th...        1          0   \n",
       "\n",
       "                                        final_tokens  \n",
       "0  playing years quite addictive u developers pls...  \n",
       "1  annoying experience round ever since update se...  \n",
       "2  love game though close real greatest problem c...  \n",
       "3  playing years quite addictive u developers pls...  \n",
       "4  annoying experience round ever since update se...  "
      ]
     },
     "execution_count": 200,
     "metadata": {},
     "output_type": "execute_result"
    }
   ],
   "source": [
    "data.head()"
   ]
  },
  {
   "cell_type": "code",
   "execution_count": 186,
   "metadata": {},
   "outputs": [
    {
     "name": "stdout",
     "output_type": "stream",
     "text": [
      "simply love game graphics good never boring thanks events also nerf persistence made modes hardpoint domination playable problem since last update season ping issue sometimes match much often enter gunfight ping flies ms ms making lose gunfight overall highly recommend downloading one best mobile experiences \n",
      "\n",
      "i m simply in love with this game the graphics are good never boring thanks to the events also there was the nerf of persistence that made the modes hardpoint and domination playable again the only problem i have since the last update of season  is the ping issue sometimes during a match much more often when i enter a gunfight my ping flies from ms to ms making me lose the gunfight but overall i highly recommend downloading it for one of the best mobile experiences \n"
     ]
    }
   ],
   "source": [
    "test = data[\"final_tokens\"][9]\n",
    "actual = data[\"reviews\"][9]\n",
    "# 8\n",
    "print(test, \"\\n\")\n",
    "print(actual)"
   ]
  },
  {
   "cell_type": "code",
   "execution_count": 187,
   "metadata": {},
   "outputs": [],
   "source": [
    "# print(stopwords.words('english'))"
   ]
  }
 ],
 "metadata": {
  "kernelspec": {
   "display_name": "Python 3.10.3 64-bit",
   "language": "python",
   "name": "python3"
  },
  "language_info": {
   "codemirror_mode": {
    "name": "ipython",
    "version": 3
   },
   "file_extension": ".py",
   "mimetype": "text/x-python",
   "name": "python",
   "nbconvert_exporter": "python",
   "pygments_lexer": "ipython3",
   "version": "3.10.3"
  },
  "orig_nbformat": 4,
  "vscode": {
   "interpreter": {
    "hash": "698943654ed90e0d601c73b15b591a66035d577c3c6badc918040a9e516c87b7"
   }
  }
 },
 "nbformat": 4,
 "nbformat_minor": 2
}
