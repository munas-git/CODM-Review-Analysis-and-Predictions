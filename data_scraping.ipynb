{
 "cells": [
  {
   "cell_type": "code",
   "execution_count": 69,
   "metadata": {},
   "outputs": [],
   "source": [
    "# import selenium\n",
    "from selenium import webdriver\n",
    "from selenium.webdriver.common.keys import Keys\n",
    "from selenium.webdriver.support import expected_conditions as EC\n",
    "from selenium.webdriver.common.action_chains import ActionChains\n",
    "PATH = 'C:\\Program Files (x86)\\chromedriver.exe'\n",
    "\n",
    "import warnings\n",
    "warnings.filterwarnings('ignore')"
   ]
  },
  {
   "cell_type": "code",
   "execution_count": 156,
   "metadata": {},
   "outputs": [],
   "source": [
    "# url to google playstore games page\n",
    "url = 'https://play.google.com/store/games'\n",
    "\n",
    "# Initialization of web driver\n",
    "driver = webdriver.Chrome(PATH)\n",
    "driver.get(url)"
   ]
  },
  {
   "cell_type": "code",
   "execution_count": 157,
   "metadata": {},
   "outputs": [],
   "source": [
    "# Finds the search icon by ID and clicks on it\n",
    "search_icon = driver.find_element_by_class_name(\"google-material-icons.r9optf\")\n",
    "search_icon.click()"
   ]
  },
  {
   "cell_type": "code",
   "execution_count": 158,
   "metadata": {},
   "outputs": [],
   "source": [
    "game_name = \"call of duty\"\n",
    "\n",
    "# Enter game name into search bar and hits enter\n",
    "search_box = driver.find_element_by_class_name(\"HWAcU\")\n",
    "search_box.clear() # Clear search box\n",
    "enter_game_name = search_box.send_keys(game_name)\n",
    "search_box.send_keys(Keys.ENTER) # Clicks enter for search box"
   ]
  },
  {
   "cell_type": "code",
   "execution_count": 162,
   "metadata": {},
   "outputs": [],
   "source": [
    "# data_box = driver.find_element_by_class_name(\"Qfxief\")\n",
    "# ActionChains(driver).move_to_element(data_box).click()"
   ]
  }
 ],
 "metadata": {
  "interpreter": {
   "hash": "698943654ed90e0d601c73b15b591a66035d577c3c6badc918040a9e516c87b7"
  },
  "kernelspec": {
   "display_name": "Python 3.10.3 64-bit",
   "language": "python",
   "name": "python3"
  },
  "language_info": {
   "codemirror_mode": {
    "name": "ipython",
    "version": 3
   },
   "file_extension": ".py",
   "mimetype": "text/x-python",
   "name": "python",
   "nbconvert_exporter": "python",
   "pygments_lexer": "ipython3",
   "version": "3.10.3"
  },
  "orig_nbformat": 4
 },
 "nbformat": 4,
 "nbformat_minor": 2
}
